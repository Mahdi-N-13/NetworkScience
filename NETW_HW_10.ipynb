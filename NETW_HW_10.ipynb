{
 "cells": [
  {
   "cell_type": "markdown",
   "metadata": {},
   "source": [
    "# import"
   ]
  },
  {
   "cell_type": "code",
   "execution_count": 1,
   "metadata": {},
   "outputs": [],
   "source": [
    "import numpy as np\n",
    "import matplotlib.pyplot as plt\n",
    "from random import randint,sample,random as rnd\n",
    "import networkx as nx\n",
    "from tqdm.autonotebook import tqdm\n",
    "from scipy.stats import linregress\n",
    "from time import time as timer"
   ]
  },
  {
   "cell_type": "code",
   "execution_count": 2,
   "metadata": {},
   "outputs": [],
   "source": [
    "from networklib import *"
   ]
  },
  {
   "cell_type": "code",
   "execution_count": 3,
   "metadata": {},
   "outputs": [],
   "source": [
    "def common_neiz(neiz,i=None,j=None):\n",
    "    if j is None:\n",
    "        if i is None:\n",
    "            n = len(neiz)\n",
    "            neiz_set = [set(nei) for nei in neiz]\n",
    "            J = np.zeros((n,n),int)\n",
    "            for a in range(1,n):\n",
    "                J[a,:a] = [len(neiz_set[a].intersection(neiz_set[b])) for b in range(a)]\n",
    "            return J + J.T\n",
    "        else:\n",
    "            n = len(neiz)\n",
    "            neiz_set = [set(nei) for nei in neiz]\n",
    "            return [len(neiz_set[j].intersection(neiz_set[i])) for i in range(n)]\n",
    "\n",
    "    else:\n",
    "        if j is None:\n",
    "            n = len(neiz)\n",
    "            neiz_set = [set(nei) for nei in neiz]\n",
    "            return [len(neiz_set[i].intersection(neiz_set[j])) for j in range(n)]\n",
    "        else:\n",
    "            return set(neiz[i]).intersection(neiz[j])"
   ]
  },
  {
   "cell_type": "code",
   "execution_count": 4,
   "metadata": {},
   "outputs": [],
   "source": [
    "def func_Xij(neiz,degree,adj=None,return_J=False):\n",
    "    n = len(neiz)\n",
    "    if adj is None:\n",
    "        adj = np.zeros((n,n),bool)\n",
    "        for i in range(n):\n",
    "            adj[i,neiz[i]] = True\n",
    "    J = common_neiz(neiz)\n",
    "    X = np.zeros((n,n))\n",
    "    for i in range(n):\n",
    "        minz = degree.copy()\n",
    "        minz[degree>degree[i]] = degree[i]\n",
    "        X[i] = (J[i]+adj[i])/(minz+1-adj[i])\n",
    "    return X,J if return_J else X"
   ]
  },
  {
   "cell_type": "code",
   "execution_count": 7,
   "metadata": {},
   "outputs": [
    {
     "data": {
      "text/plain": [
       "['a', 'b', 'c', 'd', 'e', 'f', 'g', 'h', 'i', 'j', 'k']"
      ]
     },
     "execution_count": 7,
     "metadata": {},
     "output_type": "execute_result"
    }
   ],
   "source": [
    "nodes1 = [i for i in 'abcdefghijk']\n",
    "nodes1"
   ]
  },
  {
   "cell_type": "code",
   "execution_count": 20,
   "metadata": {},
   "outputs": [],
   "source": [
    "dict1 = {i:j for j,i in enumerate(nodes1)}"
   ]
  },
  {
   "cell_type": "code",
   "execution_count": 26,
   "metadata": {},
   "outputs": [],
   "source": [
    "neiz = [\n",
    "    ['b','c'],\n",
    "    ['c'],\n",
    "    ['d'],\n",
    "    ['e','i'],\n",
    "    ['f','g'],\n",
    "    ['g'],\n",
    "    ['h'],\n",
    "    ['i','j'],\n",
    "    ['j','k'],\n",
    "    ['k'],\n",
    "    [],\n",
    "]"
   ]
  },
  {
   "cell_type": "code",
   "execution_count": 23,
   "metadata": {},
   "outputs": [
    {
     "data": {
      "text/plain": [
       "[['b', 'c', 'b', 'c'],\n",
       " ['c', 'a', 'c'],\n",
       " ['d', 'a', 'b', 'd'],\n",
       " ['e', 'i', 'c', 'e'],\n",
       " ['f', 'g', 'd', 'f', 'g'],\n",
       " ['g', 'e', 'g'],\n",
       " ['h', 'e', 'f', 'h'],\n",
       " ['i', 'j', 'g'],\n",
       " ['j', 'k', 'd', 'h'],\n",
       " ['k', 'h', 'i']]"
      ]
     },
     "execution_count": 23,
     "metadata": {},
     "output_type": "execute_result"
    }
   ],
   "source": [
    "neiz2"
   ]
  },
  {
   "cell_type": "code",
   "execution_count": 27,
   "metadata": {},
   "outputs": [
    {
     "data": {
      "text/plain": [
       "[['b', 'c', 'b', 'c'],\n",
       " ['c', 'a', 'c'],\n",
       " ['d', 'a', 'b', 'd'],\n",
       " ['e', 'i', 'c', 'e', 'i'],\n",
       " ['f', 'g', 'd', 'f', 'g'],\n",
       " ['g', 'e', 'g'],\n",
       " ['h', 'e', 'f', 'h'],\n",
       " ['i', 'j', 'g', 'i', 'j'],\n",
       " ['j', 'k', 'd', 'h', 'j'],\n",
       " ['k', 'h', 'i'],\n",
       " ['i', 'j']]"
      ]
     },
     "execution_count": 27,
     "metadata": {},
     "output_type": "execute_result"
    }
   ],
   "source": [
    "neiz2 = neiz.copy()\n",
    "for i,node in enumerate(nodes1[:-1]):\n",
    "    # neiz2.append(neiz[i])\n",
    "    for j in neiz[i]:\n",
    "        neiz2[dict1[j]].append(node)\n",
    "neiz2"
   ]
  },
  {
   "cell_type": "code",
   "execution_count": 36,
   "metadata": {},
   "outputs": [
    {
     "data": {
      "text/plain": [
       "['b', 'c']"
      ]
     },
     "execution_count": 36,
     "metadata": {},
     "output_type": "execute_result"
    }
   ],
   "source": [
    "sorted(neiz[0])"
   ]
  },
  {
   "cell_type": "code",
   "execution_count": 37,
   "metadata": {},
   "outputs": [],
   "source": [
    "neiz = [sorted(list(set(neiz2[i]))) for i in range(len(nodes1))]"
   ]
  },
  {
   "cell_type": "code",
   "execution_count": 38,
   "metadata": {},
   "outputs": [
    {
     "name": "stdout",
     "output_type": "stream",
     "text": [
      "a\n",
      "['b', 'c']\n",
      "\n",
      "b\n",
      "['a', 'c']\n",
      "\n",
      "c\n",
      "['a', 'b', 'd']\n",
      "\n",
      "d\n",
      "['c', 'e', 'i']\n",
      "\n",
      "e\n",
      "['d', 'f', 'g']\n",
      "\n",
      "f\n",
      "['e', 'g']\n",
      "\n",
      "g\n",
      "['e', 'f', 'h']\n",
      "\n",
      "h\n",
      "['g', 'i', 'j']\n",
      "\n",
      "i\n",
      "['d', 'h', 'j', 'k']\n",
      "\n",
      "j\n",
      "['h', 'i', 'k']\n",
      "\n",
      "k\n",
      "['i', 'j']\n",
      "\n"
     ]
    }
   ],
   "source": [
    "for i,node in enumerate(nodes1):\n",
    "    print(node)\n",
    "    print(neiz[i])\n",
    "    print(\"\")"
   ]
  },
  {
   "cell_type": "code",
   "execution_count": 40,
   "metadata": {},
   "outputs": [
    {
     "data": {
      "text/plain": [
       "{'a': 0,\n",
       " 'b': 1,\n",
       " 'c': 2,\n",
       " 'd': 3,\n",
       " 'e': 4,\n",
       " 'f': 5,\n",
       " 'g': 6,\n",
       " 'h': 7,\n",
       " 'i': 8,\n",
       " 'j': 9,\n",
       " 'k': 10}"
      ]
     },
     "execution_count": 40,
     "metadata": {},
     "output_type": "execute_result"
    }
   ],
   "source": [
    "dict1"
   ]
  },
  {
   "cell_type": "code",
   "execution_count": 44,
   "metadata": {},
   "outputs": [
    {
     "data": {
      "text/plain": [
       "[['b', 'c'],\n",
       " ['a', 'c'],\n",
       " ['a', 'b', 'd'],\n",
       " ['c', 'e', 'i'],\n",
       " ['d', 'f', 'g'],\n",
       " ['e', 'g'],\n",
       " ['e', 'f', 'h'],\n",
       " ['g', 'i', 'j'],\n",
       " ['d', 'h', 'j', 'k'],\n",
       " ['h', 'i', 'k'],\n",
       " ['i', 'j']]"
      ]
     },
     "execution_count": 44,
     "metadata": {},
     "output_type": "execute_result"
    }
   ],
   "source": [
    "[dict1[j] for j in neiz]\n",
    "# neiz"
   ]
  },
  {
   "cell_type": "code",
   "execution_count": 45,
   "metadata": {},
   "outputs": [
    {
     "data": {
      "text/plain": [
       "[[1, 2],\n",
       " [0, 2],\n",
       " [0, 1, 3],\n",
       " [2, 4, 8],\n",
       " [3, 5, 6],\n",
       " [4, 6],\n",
       " [4, 5, 7],\n",
       " [6, 8, 9],\n",
       " [3, 7, 9, 10],\n",
       " [7, 8, 10],\n",
       " [8, 9]]"
      ]
     },
     "execution_count": 45,
     "metadata": {},
     "output_type": "execute_result"
    }
   ],
   "source": [
    "nei_n = []\n",
    "for i in range(len(nodes1)):\n",
    "    nei_n.append([dict1[j] for j in neiz[i]])\n",
    "nei_n"
   ]
  },
  {
   "cell_type": "code",
   "execution_count": 54,
   "metadata": {},
   "outputs": [],
   "source": [
    "degree = np.array([len(nei) for nei in neiz])"
   ]
  },
  {
   "cell_type": "code",
   "execution_count": 60,
   "metadata": {},
   "outputs": [],
   "source": [
    "X,J = func_Xij(nei_n,degree)"
   ]
  },
  {
   "cell_type": "markdown",
   "metadata": {},
   "source": [
    "## Girvan-Newman (GN) Benchmark"
   ]
  },
  {
   "cell_type": "code",
   "execution_count": 13,
   "metadata": {},
   "outputs": [],
   "source": [
    "def GirvanNewmanBenchmark(p_int=0.5,p_ext=0.1):\n",
    "    n = 128\n",
    "    C = 4\n",
    "    nc = n//C\n",
    "    nodes = np.arange(n).reshape(C,-1)\n",
    "    neiz = [[] for _ in range(n)]\n",
    "    for c in range(C):\n",
    "        for ii,i in enumerate(nodes[c,:-1]):\n",
    "            to_link = np.random.random(nc-ii-1) < p_int\n",
    "            jz = list(nodes[c,ii+1:][to_link])\n",
    "            neiz[i].extend(jz)\n",
    "            for j in jz:\n",
    "                neiz[j].append(i)\n",
    "            for c2 in range(c+1,C):\n",
    "                to_link = np.random.random(nc) < p_ext\n",
    "                jz = list(nodes[c2][to_link])\n",
    "                neiz[i].extend(jz)\n",
    "                for j in jz:\n",
    "                    neiz[j].append(i)\n",
    "    return neiz,np.array([len(nei) for nei in neiz])"
   ]
  },
  {
   "cell_type": "code",
   "execution_count": 7,
   "metadata": {},
   "outputs": [],
   "source": [
    "neiz , degree = GirvanNewmanBenchmark()"
   ]
  },
  {
   "cell_type": "code",
   "execution_count": 54,
   "metadata": {},
   "outputs": [],
   "source": [
    "neiz,degree = randomNet_test_connceted(200,0.1,1,0,0,0)"
   ]
  },
  {
   "cell_type": "code",
   "execution_count": 71,
   "metadata": {},
   "outputs": [],
   "source": [
    "def common_neiz(neiz,i=None,j=None):\n",
    "    if j is None:\n",
    "        if i is None:\n",
    "            n = len(neiz)\n",
    "            neiz_set = [set(nei) for nei in neiz]\n",
    "            J = np.zeros((n,n),int)\n",
    "            for a in range(1,n):\n",
    "                J[a,:a] = [len(neiz_set[a].intersection(neiz_set[b])) for b in range(a)]\n",
    "            return J + J.T\n",
    "        else:\n",
    "            n = len(neiz)\n",
    "            neiz_set = [set(nei) for nei in neiz]\n",
    "            return [len(neiz_set[j].intersection(neiz_set[i])) for i in range(n)]\n",
    "\n",
    "    else:\n",
    "        if j is None:\n",
    "            n = len(neiz)\n",
    "            neiz_set = [set(nei) for nei in neiz]\n",
    "            return [len(neiz_set[i].intersection(neiz_set[j])) for j in range(n)]\n",
    "        else:\n",
    "            return set(neiz[i]).intersection(neiz[j])"
   ]
  },
  {
   "cell_type": "code",
   "execution_count": 94,
   "metadata": {},
   "outputs": [],
   "source": [
    "def func_Xij(neiz,degree,adj=None,return_J=False):\n",
    "    n = len(neiz)\n",
    "    if adj is None:\n",
    "        adj = np.zeros((n,n),bool)\n",
    "        for i in range(n):\n",
    "            adj[i,neiz[i]] = True\n",
    "    J = common_neiz(neiz)\n",
    "    X = np.zeros((n,n))\n",
    "    for i in range(n):\n",
    "        minz = degree.copy()\n",
    "        minz[degree>degree[i]] = degree[i]\n",
    "        X[i] = J[i]/(minz+1-adj[i])\n",
    "    return X,J if return_J else X"
   ]
  },
  {
   "cell_type": "code",
   "execution_count": 96,
   "metadata": {},
   "outputs": [],
   "source": [
    "J = common_neiz(neiz)\n",
    "X = func_Xij(neiz,degree)"
   ]
  },
  {
   "cell_type": "code",
   "execution_count": 90,
   "metadata": {},
   "outputs": [
    {
     "data": {
      "text/plain": [
       "(69, 81)"
      ]
     },
     "execution_count": 90,
     "metadata": {},
     "output_type": "execute_result"
    }
   ],
   "source": [
    "i,j = np.random.randint(0,200,2)\n",
    "i,j"
   ]
  },
  {
   "cell_type": "code",
   "execution_count": 97,
   "metadata": {},
   "outputs": [
    {
     "data": {
      "text/plain": [
       "False"
      ]
     },
     "execution_count": 97,
     "metadata": {},
     "output_type": "execute_result"
    }
   ],
   "source": [
    "adj[i,j]"
   ]
  },
  {
   "cell_type": "code",
   "execution_count": 72,
   "metadata": {},
   "outputs": [],
   "source": [
    "J = common_neiz(neiz)"
   ]
  }
 ],
 "metadata": {
  "kernelspec": {
   "display_name": "base",
   "language": "python",
   "name": "python3"
  },
  "language_info": {
   "codemirror_mode": {
    "name": "ipython",
    "version": 3
   },
   "file_extension": ".py",
   "mimetype": "text/x-python",
   "name": "python",
   "nbconvert_exporter": "python",
   "pygments_lexer": "ipython3",
   "version": "3.8.8"
  }
 },
 "nbformat": 4,
 "nbformat_minor": 2
}
